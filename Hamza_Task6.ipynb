{
  "nbformat": 4,
  "nbformat_minor": 0,
  "metadata": {
    "colab": {
      "provenance": []
    },
    "kernelspec": {
      "name": "python3",
      "display_name": "Python 3"
    },
    "language_info": {
      "name": "python"
    }
  },
  "cells": [
    {
      "cell_type": "markdown",
      "source": [
        "Exercise 1: Library Management System\n",
        "Scenario: You are tasked with creating a simple library management system.\n",
        "Question: Define two classes: Book and Library. The Book class should include attributes like\n",
        "title, author, and ISBN. The Library class should have methods to add books and display all\n",
        "books in the library. Create objects of the Book class and use them in the Library class."
      ],
      "metadata": {
        "id": "7Lz0EMkN8k3V"
      }
    },
    {
      "cell_type": "code",
      "execution_count": 2,
      "metadata": {
        "colab": {
          "base_uri": "https://localhost:8080/"
        },
        "id": "P0AN83TX8cpW",
        "outputId": "ad9d6045-8264-46fe-9c19-a02c9bd61e52"
      },
      "outputs": [
        {
          "output_type": "stream",
          "name": "stdout",
          "text": [
            "Title: Atomic Habits, Author: James Clear, ISBN: isbn\n"
          ]
        }
      ],
      "source": [
        "class Book:\n",
        "    def __init__(self, title, author, isbn):\n",
        "        self.title = title\n",
        "        self.author = author\n",
        "        self.isbn = isbn\n",
        "class Library:\n",
        "    def __init__(self):\n",
        "        self.books = []\n",
        "    def add_book(self, book):\n",
        "        self.books.append(book)\n",
        "    def display_books(self):\n",
        "        for book in self.books:\n",
        "            print(f\"Title: {book.title}, Author: {book.author}, ISBN: {book.isbn}\")\n",
        "b=Book(\"Atomic Habits\",\"James Clear\",\"isbn\")\n",
        "l=Library()\n",
        "l.add_book(b)\n",
        "l.display_books()"
      ]
    },
    {
      "cell_type": "markdown",
      "source": [
        "Exercise 2: Banking System\n",
        "Scenario: Design a banking system to manage customer accounts.\n",
        "Question: Create a BankAccount class with methods to deposit, withdraw, and check balance.\n",
        "Create a Customer class that can have multiple BankAccount objects. Write methods to display\n",
        "customer information along with their accounts."
      ],
      "metadata": {
        "id": "zdkGRYj-8kbG"
      }
    },
    {
      "cell_type": "code",
      "source": [
        "class BankAccount:\n",
        "  def __init__(self, balance=0):\n",
        "    self.balance = balance\n",
        "\n",
        "  def deposit(self, amount):\n",
        "    self.balance += amount\n",
        "    return self.balance\n",
        "  def withdraw(self, amount):\n",
        "    if self.balance >= amount:\n",
        "      self.balance -= amount\n",
        "      return self.balance\n",
        "    else:\n",
        "      return \"Insufficient funds\"\n",
        "  def check_balance(self):\n",
        "    return self.balance\n",
        "class Customer:\n",
        "  def __init__(self, name, account):\n",
        "    self.name = name\n",
        "    self.account = account\n",
        "  def display_customer_info(self):\n",
        "    print(f\"Name: {self.name}\")\n",
        "    print(\"Accounts:\")\n",
        "    for account in self.account:\n",
        "      print(f\"Account Balance: {account.check_balance()}\")\n",
        "BA=BankAccount()\n",
        "BA.deposit(1000)\n",
        "BA.withdraw(500)\n",
        "BA.check_balance()\n",
        "C=Customer(\"John\",[BA])\n",
        "C.display_customer_info()"
      ],
      "metadata": {
        "colab": {
          "base_uri": "https://localhost:8080/"
        },
        "id": "VPiC9GMD9nmL",
        "outputId": "6e403dd9-182e-48d7-b659-08f673a9606c"
      },
      "execution_count": 4,
      "outputs": [
        {
          "output_type": "stream",
          "name": "stdout",
          "text": [
            "Name: John\n",
            "Accounts:\n",
            "Account Balance: 500\n"
          ]
        }
      ]
    },
    {
      "cell_type": "markdown",
      "source": [
        "Exercise 3: E-commerce System\n",
        "Scenario: You are developing an e-commerce platform.\n",
        "Question: Create a Product class with attributes like name, price, and stock quantity. Create a\n",
        "ShoppingCart class that can hold multiple Product objects. Implement methods to add products\n",
        "to the cart and calculate the total price."
      ],
      "metadata": {
        "id": "TtdVRhaZ-Udr"
      }
    },
    {
      "cell_type": "code",
      "source": [
        "class Product:\n",
        "  def __init__(self, name, price, stock_quantity):\n",
        "    self.name = name\n",
        "    self.price = price\n",
        "    self.stock_quantity = stock_quantity\n",
        "class ShoppingCart:\n",
        "    def __init__(self):\n",
        "      self.products = []\n",
        "    def add_product(self, product, quantity):\n",
        "      self.products.append((product, quantity))\n",
        "    def calculate_total_price(self):\n",
        "      total_price = 0\n",
        "      for product, quantity in self.products:\n",
        "        total_price += product.price * quantity\n",
        "      return total_price\n",
        "P=Product(\"Apple\",100,10)\n",
        "S=ShoppingCart()\n",
        "S.add_product(P,2)\n",
        "S.calculate_total_price()"
      ],
      "metadata": {
        "colab": {
          "base_uri": "https://localhost:8080/"
        },
        "id": "STa4r4x4-Ws7",
        "outputId": "622b3aa0-b4e6-4020-ac19-3087cdb00a11"
      },
      "execution_count": 7,
      "outputs": [
        {
          "output_type": "execute_result",
          "data": {
            "text/plain": [
              "200"
            ]
          },
          "metadata": {},
          "execution_count": 7
        }
      ]
    },
    {
      "cell_type": "markdown",
      "source": [
        "Exercise 4: Vehicle Registration System\n",
        "Scenario: Develop a vehicle registration system.\n",
        "Question: Define a Vehicle class with attributes such as make, model, and year. Create a\n",
        "Registration class that links multiple Vehicle objects to a single owner. Write methods to\n",
        "display vehicle details and owner information."
      ],
      "metadata": {
        "id": "cA6lm-Fr-752"
      }
    },
    {
      "cell_type": "code",
      "source": [
        "class Vehicle:\n",
        "  def __init__(self, make, model, year):\n",
        "    self.make = make\n",
        "    self.model = model\n",
        "    self.year = year\n",
        "class Registration:\n",
        "  def __init__(self, owner):\n",
        "    self.owner = owner\n",
        "    self.vehicles = []\n",
        "  def add_vehicle(self, vehicle):\n",
        "    self.vehicles.append(vehicle)\n",
        "  def display_vehicle_details(self):\n",
        "    print(f\"Owner: {self.owner}\")\n",
        "    for vehicle in self.vehicles:\n",
        "      print(f\"Make: {vehicle.make}, Model: {vehicle.model}, Year: {vehicle.year}\")\n",
        "V=Vehicle(\"Toyota\",\"Camry\",2022)\n",
        "R=Registration(\"John\")\n",
        "R.add_vehicle(V)\n",
        "R.display_vehicle_details()\n"
      ],
      "metadata": {
        "colab": {
          "base_uri": "https://localhost:8080/"
        },
        "id": "p8tYvySE-99a",
        "outputId": "9fcedbb2-95e8-4458-8fab-b56300476cbf"
      },
      "execution_count": 8,
      "outputs": [
        {
          "output_type": "stream",
          "name": "stdout",
          "text": [
            "Owner: John\n",
            "Make: Toyota, Model: Camry, Year: 2022\n"
          ]
        }
      ]
    },
    {
      "cell_type": "markdown",
      "source": [
        "Exercise 5: School Management System\n",
        "Scenario: Create a school management system to manage students and courses.\n",
        "Question: Define a Student class with attributes for name and age. Create a Course class that\n",
        "can hold multiple Student objects. Write methods to enroll students in courses and display\n",
        "course rosters."
      ],
      "metadata": {
        "id": "kDYiORrA_Oj4"
      }
    },
    {
      "cell_type": "code",
      "source": [
        "class Student:\n",
        "  def __init__(self, name, age):\n",
        "    self.name = name\n",
        "    self.age = age\n",
        "class Course:\n",
        "  def __init__(self, name):\n",
        "    self.name = name\n",
        "    self.students = []\n",
        "  def enroll_student(self, student):\n",
        "    self.students.append(student)\n",
        "  def display_course_roster(self):\n",
        "    print(f\"Course: {self.name}\")\n",
        "    print(\"Students:\")\n",
        "    for student in self.students:\n",
        "      print(f\"Name: {student.name}, Age: {student.age}\")\n",
        "S=Student(\"John\",20)\n",
        "C=Course(\"Math\")\n",
        "C.enroll_student(S)\n",
        "C.display_course_roster()"
      ],
      "metadata": {
        "colab": {
          "base_uri": "https://localhost:8080/"
        },
        "id": "FH53QM0E_Qpg",
        "outputId": "81f3d9be-1079-4af9-f92a-80d25321658c"
      },
      "execution_count": 9,
      "outputs": [
        {
          "output_type": "stream",
          "name": "stdout",
          "text": [
            "Course: Math\n",
            "Students:\n",
            "Name: John, Age: 20\n"
          ]
        }
      ]
    },
    {
      "cell_type": "markdown",
      "source": [
        "Exercise 6: Zoo Management\n",
        "Scenario: You are designing a zoo management system.\n",
        "Question: Create an Animal class with attributes such as species and habitat. Create a Zoo class\n",
        "that can contain multiple Animal objects. Write methods to add animals and display the list of\n",
        "animals in the zoo."
      ],
      "metadata": {
        "id": "4Qo1sxXZ_kCu"
      }
    },
    {
      "cell_type": "code",
      "source": [
        "class Animal:\n",
        "  def __init__(self, species, habitat):\n",
        "    self.species = species\n",
        "    self.habitat = habitat\n",
        "class Zoo:\n",
        "  def __init__(self):\n",
        "    self.animals = []\n",
        "  def add_animal(self, animal):\n",
        "    self.animals.append(animal)\n",
        "  def display_animal_list(self):\n",
        "    print(\"Animals in the zoo:\")\n",
        "    for animal in self.animals:\n",
        "      print(f\"Species: {animal.species}, Habitat: {animal.habitat}\")\n",
        "A=Animal(\"Lion\",\"Savannah\")\n",
        "Z=Zoo()\n",
        "Z.add_animal(A)\n",
        "Z.display_animal_list()"
      ],
      "metadata": {
        "colab": {
          "base_uri": "https://localhost:8080/"
        },
        "id": "kKug7NM0_mLO",
        "outputId": "5f68d8c4-0192-4cf0-979c-b1a914fbc22e"
      },
      "execution_count": 10,
      "outputs": [
        {
          "output_type": "stream",
          "name": "stdout",
          "text": [
            "Animals in the zoo:\n",
            "Species: Lion, Habitat: Savannah\n"
          ]
        }
      ]
    },
    {
      "cell_type": "markdown",
      "source": [
        "Exercise 7: Hotel Booking System\n",
        "Scenario: Develop a hotel booking system.\n",
        "Question: Create a Room class with attributes like room number, type, and availability status.\n",
        "Create a Hotel class that can manage multiple Room objects. Implement methods to book a room\n",
        "and check room availability."
      ],
      "metadata": {
        "id": "XQqetX8Y_zDj"
      }
    },
    {
      "cell_type": "code",
      "source": [
        "class Room:\n",
        "  def __init__(self, room_number, room_type, availability):\n",
        "    self.room_number = room_number\n",
        "    self.room_type = room_type\n",
        "    self.availability = availability\n",
        "class Hotel:\n",
        "  def __init__(self):\n",
        "    self.rooms = []\n",
        "  def add_room(self, room):\n",
        "    self.rooms.append(room)\n",
        "  def book_room(self, room_number):\n",
        "    for room in self.rooms:\n",
        "      if room.room_number == room_number and room.availability:\n",
        "        room.availability = False\n",
        "        return f\"Room {room_number} has been booked.\"\n",
        "        return f\"Room {room_number} is not available.\"\n",
        "H=Hotel()\n",
        "R=Room(101,\"Deluxe\",True)\n",
        "H.add_room(R)\n",
        "H.book_room(101)"
      ],
      "metadata": {
        "colab": {
          "base_uri": "https://localhost:8080/",
          "height": 35
        },
        "id": "HspRGwIn_027",
        "outputId": "f80e83d2-cc06-4cd4-cda1-3540d999db5d"
      },
      "execution_count": 11,
      "outputs": [
        {
          "output_type": "execute_result",
          "data": {
            "text/plain": [
              "'Room 101 has been booked.'"
            ],
            "application/vnd.google.colaboratory.intrinsic+json": {
              "type": "string"
            }
          },
          "metadata": {},
          "execution_count": 11
        }
      ]
    },
    {
      "cell_type": "markdown",
      "source": [
        "Exercise 8: Movie Rental System\n",
        "Scenario: Design a movie rental system.\n",
        "Question: Define a Movie class with attributes such as title, genre, and rental price. Create a\n",
        "RentalStore class that manages a collection of Movie objects. Write methods to rent movies\n",
        "and display available movies."
      ],
      "metadata": {
        "id": "D1QA6lClAHxo"
      }
    },
    {
      "cell_type": "code",
      "source": [
        "class Movie:\n",
        "    def __init__(self, title, genre, rental_price):\n",
        "        self.title = title\n",
        "        self.genre = genre\n",
        "        self.rental_price = rental_price\n",
        "        self.rented = False  # Add rented status\n",
        "\n",
        "class Rental_Store:\n",
        "    def __init__(self):\n",
        "        self.movies = []\n",
        "\n",
        "    def add_movie(self, movie):\n",
        "        self.movies.append(movie)\n",
        "\n",
        "    def rent_movie(self, title):\n",
        "        for movie in self.movies:\n",
        "            if movie.title == title and not movie.rented:\n",
        "                movie.rented = True\n",
        "                return f\"Movie '{title}' has been rented.\"\n",
        "        return f\"Movie '{title}' is not available for rent.\"\n",
        "\n",
        "    def display_available_movies(self):\n",
        "\n",
        "        for movie in self.movies:\n",
        "            if not movie.rented:\n",
        "                print(\"Available Movies:\")\n",
        "                print(f\"Title: {movie.title}, Genre: {movie.genre}, Rental Price: {movie.rental_price}\")\n",
        "            else:\n",
        "              print(f\"No Available Movies\")\n",
        "\n",
        "# Example usage\n",
        "M = Movie(\"The Shawshank Redemption\", \"Drama\", 19.99)\n",
        "R = Rental_Store()\n",
        "R.add_movie(M)\n",
        "print(R.rent_movie(\"The Shawshank Redemption\"))  # Output: Movie 'The Shawshank Redemption' has been rented.\n",
        "R.display_available_movies()  # Output: No available movies\n"
      ],
      "metadata": {
        "colab": {
          "base_uri": "https://localhost:8080/"
        },
        "id": "9NGyCpd7AJkA",
        "outputId": "145c9845-cde0-44f9-cb74-20fdeb11e3f6"
      },
      "execution_count": 17,
      "outputs": [
        {
          "output_type": "stream",
          "name": "stdout",
          "text": [
            "Available Movies:\n",
            "Title: The Shawshank Redemption, Genre: Drama, Rental Price: 19.99\n"
          ]
        }
      ]
    },
    {
      "cell_type": "markdown",
      "source": [
        "Exercise 9: Fitness Tracker\n",
        "Scenario: You are creating a fitness tracker application.\n",
        "Question: Create a Workout class with attributes for type of exercise, duration, and calories\n",
        "burned. Create a User class that can have multiple Workout objects. Implement methods to log\n",
        "workouts and calculate total calories burned."
      ],
      "metadata": {
        "id": "seQ53ywUBy1z"
      }
    },
    {
      "cell_type": "code",
      "source": [
        "class Workout:\n",
        "  def __init__(self, type_of_exercise, duration, calories_burned):\n",
        "    self.type_of_exercise = type_of_exercise\n",
        "    self.duration = duration\n",
        "    self.calories_burned = calories_burned\n",
        "class User:\n",
        "  def __init__(self, name):\n",
        "    self.name = name\n",
        "    self.workouts = []\n",
        "  def add_workout(self, workout):\n",
        "    self.workouts.append(workout)\n",
        "  def calculate_total_calories_burned(self):\n",
        "    total_calories = 0\n",
        "    for workout in self.workouts:\n",
        "      total_calories += workout.calories_burned\n",
        "    return total_calories\n",
        "W=Workout(\"Running\",60,200)\n",
        "U=User(\"John\")\n",
        "U.add_workout(W)\n",
        "U.calculate_total_calories_burned()"
      ],
      "metadata": {
        "colab": {
          "base_uri": "https://localhost:8080/"
        },
        "id": "f954JtLVByes",
        "outputId": "4f203e47-ca69-4b12-a7b4-a51796e8c321"
      },
      "execution_count": 19,
      "outputs": [
        {
          "output_type": "execute_result",
          "data": {
            "text/plain": [
              "200"
            ]
          },
          "metadata": {},
          "execution_count": 19
        }
      ]
    },
    {
      "cell_type": "markdown",
      "source": [
        "Exercise 10: Task Management System\n",
        "Scenario: Develop a task management system.\n",
        "Question: Define a Task class with attributes such as title, description, and status. Create a\n",
        "Project class that can hold multiple Task objects. Write methods to add tasks, update their\n",
        "status, and display all tasks in the project."
      ],
      "metadata": {
        "id": "b2oFclHNCKuI"
      }
    },
    {
      "cell_type": "code",
      "source": [
        "class Task:\n",
        "  def __init__(self, title, description, status):\n",
        "    self.title = title\n",
        "    self.description = description\n",
        "    self.status = status\n",
        "class Project:\n",
        "  def __init__(self, name):\n",
        "    self.name = name\n",
        "    self.tasks = []\n",
        "  def add_task(self, task):\n",
        "    self.tasks.append(task)\n",
        "  def update_task_status(self, task_title, new_status):\n",
        "    for task in self.tasks:\n",
        "      if task.title == task_title:\n",
        "        task.status = new_status\n",
        "  def display_tasks(self):\n",
        "    print(f\"Project: {self.name}\")\n",
        "    for task in self.tasks:\n",
        "      print(f\"Title: {task.title}, Description: {task.description}, Status: {task.status}\")\n",
        "T=Task(\"Task 1\",\"Description 1\",\"Pending\")\n",
        "P=Project(\"Project 1\")\n",
        "P.add_task(T)\n",
        "P.update_task_status(\"Task 1\",\"Completed\")\n",
        "P.display_tasks()"
      ],
      "metadata": {
        "colab": {
          "base_uri": "https://localhost:8080/"
        },
        "id": "yC335KJQCMYg",
        "outputId": "74a87fac-d5ac-4ac9-9aa5-af2188cb0948"
      },
      "execution_count": 20,
      "outputs": [
        {
          "output_type": "stream",
          "name": "stdout",
          "text": [
            "Project: Project 1\n",
            "Title: Task 1, Description: Description 1, Status: Completed\n"
          ]
        }
      ]
    }
  ]
}