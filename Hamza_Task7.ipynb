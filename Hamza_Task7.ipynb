{
  "nbformat": 4,
  "nbformat_minor": 0,
  "metadata": {
    "colab": {
      "provenance": []
    },
    "kernelspec": {
      "name": "python3",
      "display_name": "Python 3"
    },
    "language_info": {
      "name": "python"
    }
  },
  "cells": [
    {
      "cell_type": "markdown",
      "source": [
        "1. Basic Class and Object Creation:\n",
        "o Define a class Car with attributes make and model. Create an instance of the Car\n",
        "class and print its attributes."
      ],
      "metadata": {
        "id": "BUBbv6O5NKit"
      }
    },
    {
      "cell_type": "code",
      "execution_count": 1,
      "metadata": {
        "colab": {
          "base_uri": "https://localhost:8080/"
        },
        "id": "LlMJQBvnNJ5x",
        "outputId": "de633f4e-3fa7-4204-9685-2c45dd1cd16e"
      },
      "outputs": [
        {
          "output_type": "stream",
          "name": "stdout",
          "text": [
            "Toyota\n",
            "Camry\n"
          ]
        }
      ],
      "source": [
        "class Car:\n",
        "    def __init__(self, make, model):\n",
        "        self.make = make\n",
        "        self.model = model\n",
        "\n",
        "car1 = Car(\"Toyota\", \"Camry\")\n",
        "print(car1.make)\n",
        "print(car1.model)"
      ]
    },
    {
      "cell_type": "markdown",
      "source": [
        "Constructor with Parameters:\n",
        "o Define a class Book with a constructor that takes title and author as parameters\n",
        "and initializes these attributes. Create an instance of the Book class and print its\n",
        "attributes."
      ],
      "metadata": {
        "id": "ZfptRGZxNRzY"
      }
    },
    {
      "cell_type": "code",
      "source": [
        "class Book:\n",
        "    def __init__(self, title, author):\n",
        "        self.title = title\n",
        "        self.author = author\n",
        "\n",
        "book1 = Book(\"The Great Gatsby\", \"F. Scott Fitzgerald\")\n",
        "print(book1.title)\n",
        "print(book1.author)"
      ],
      "metadata": {
        "colab": {
          "base_uri": "https://localhost:8080/"
        },
        "id": "XtqPuQLDNT73",
        "outputId": "4a2cae03-4729-4ebd-a9d6-4039d77929d2"
      },
      "execution_count": 2,
      "outputs": [
        {
          "output_type": "stream",
          "name": "stdout",
          "text": [
            "The Great Gatsby\n",
            "F. Scott Fitzgerald\n"
          ]
        }
      ]
    },
    {
      "cell_type": "markdown",
      "source": [
        "Constructor with Default Parameters:\n",
        "o Define a class Person with a constructor that takes name and age as parameters.\n",
        "Set default values for the parameters to &quot;Unknown&quot; and 0, respectively. Create\n",
        "instances of the Person class with and without passing arguments, and print their\n",
        "attributes."
      ],
      "metadata": {
        "id": "wAwMzR3iNatI"
      }
    },
    {
      "cell_type": "code",
      "source": [
        "class Person:\n",
        "    def __init__(self, name=\"Unknown\", age=0):\n",
        "        self.name = name\n",
        "        self.age = age\n",
        "\n",
        "person1 = Person()\n",
        "print(person1.name)\n",
        "print(person1.age)"
      ],
      "metadata": {
        "colab": {
          "base_uri": "https://localhost:8080/"
        },
        "id": "LXPZdvCLNbwf",
        "outputId": "7ea01772-12db-4f77-a79e-595f16ecfbb3"
      },
      "execution_count": 3,
      "outputs": [
        {
          "output_type": "stream",
          "name": "stdout",
          "text": [
            "Unknown\n",
            "0\n"
          ]
        }
      ]
    },
    {
      "cell_type": "markdown",
      "source": [
        "Instance and Class Variables:\n",
        "o Define a class Employee with instance variables name and salary, and a class\n",
        "variable company_name. Create instances of the Employee class, modify the class\n",
        "variable, and observe the changes."
      ],
      "metadata": {
        "id": "Rf3lgifHNi2u"
      }
    },
    {
      "cell_type": "code",
      "source": [
        "class Employee:\n",
        "    company_name = \"ABC Company\"\n",
        "\n",
        "    def __init__(self, name, salary):\n",
        "        self.name = name\n",
        "        self.salary = salary\n",
        "        self.company_name = \"spc\"\n",
        "\n",
        "employee1 = Employee(\"John Doe\", 50000)\n",
        "employee2 = Employee(\"Jane Smith\", 60000)\n",
        "\n",
        "print(employee1.name)\n",
        "print(employee1.salary)\n",
        "print(employee1.company_name)"
      ],
      "metadata": {
        "colab": {
          "base_uri": "https://localhost:8080/"
        },
        "id": "nO-CVJvGNjq1",
        "outputId": "7b240cb6-7236-496e-9e6c-f5ccaf79cde5"
      },
      "execution_count": 5,
      "outputs": [
        {
          "output_type": "stream",
          "name": "stdout",
          "text": [
            "John Doe\n",
            "50000\n",
            "spc\n"
          ]
        }
      ]
    },
    {
      "cell_type": "markdown",
      "source": [
        "Instance Methods:\n",
        "o Define a class Circle with an instance variable radius. Implement an instance\n",
        "method area that calculates and returns the area of the circle. Create an instance\n",
        "of the Circle class and call the area method."
      ],
      "metadata": {
        "id": "VQq7TPs9ODkR"
      }
    },
    {
      "cell_type": "code",
      "source": [
        "class Circle:\n",
        "    def __init__(self, radius):\n",
        "        self.radius = radius\n",
        "\n",
        "    def area(self):\n",
        "        return 3.14 * self.radius ** 2\n",
        "\n",
        "circle1 = Circle(5)\n",
        "print(circle1.area())"
      ],
      "metadata": {
        "colab": {
          "base_uri": "https://localhost:8080/"
        },
        "id": "MFUDAq9LOFKh",
        "outputId": "215e7623-2477-4092-9fb5-7b2a8be2013d"
      },
      "execution_count": 6,
      "outputs": [
        {
          "output_type": "stream",
          "name": "stdout",
          "text": [
            "78.5\n"
          ]
        }
      ]
    },
    {
      "cell_type": "markdown",
      "source": [
        "Class Methods:\n",
        "o Define a class Student with an instance variable name and a class variable\n",
        "school_name. Implement a class method set_school_name to change the class\n",
        "variable school_name. Create instances of the Student class and use the class\n",
        "method to change the school name."
      ],
      "metadata": {
        "id": "j7IIlPCZOM5m"
      }
    },
    {
      "cell_type": "code",
      "source": [
        "class Student:\n",
        "    school_name = \"ABC School\"\n",
        "\n",
        "    def __init__(self, name):\n",
        "        self.name = name\n",
        "\n",
        "    @classmethod\n",
        "    def set_school_name(cls, new_name):\n",
        "        cls.school_name = new_name\n",
        "        return cls.school_name\n",
        "\n",
        "student1 = Student(\"John Doe\")\n",
        "student2 = Student(\"Jane Smith\")\n",
        "\n",
        "print(student1.school_name)\n",
        "print(student2.school_name)\n",
        "\n",
        "Student.set_school_name(\"XYZ School\")\n",
        "\n",
        "print(student1.school_name)\n",
        "print(student2.school_name)"
      ],
      "metadata": {
        "colab": {
          "base_uri": "https://localhost:8080/"
        },
        "id": "-g1l_xmLOOQ-",
        "outputId": "6693d30d-271a-4ece-eb54-fb6a85f6017e"
      },
      "execution_count": 8,
      "outputs": [
        {
          "output_type": "stream",
          "name": "stdout",
          "text": [
            "ABC School\n",
            "ABC School\n",
            "XYZ School\n",
            "XYZ School\n"
          ]
        }
      ]
    },
    {
      "cell_type": "markdown",
      "source": [
        "7. Static Methods:\n",
        "o Define a class MathUtils with a static method add that takes two numbers and\n",
        "returns their sum. Call the static method without creating an instance of the class."
      ],
      "metadata": {
        "id": "QJhdaUjxOr2L"
      }
    },
    {
      "cell_type": "code",
      "source": [
        "class MathUtils:\n",
        "    @staticmethod\n",
        "    def add(a, b):\n",
        "        return a + b\n",
        "\n",
        "print(MathUtils.add(5, 3))"
      ],
      "metadata": {
        "colab": {
          "base_uri": "https://localhost:8080/"
        },
        "id": "4A2-KDzFOttx",
        "outputId": "7f98e9a4-af40-4fcc-c5c7-4aa73a6691ab"
      },
      "execution_count": 9,
      "outputs": [
        {
          "output_type": "stream",
          "name": "stdout",
          "text": [
            "8\n"
          ]
        }
      ]
    },
    {
      "cell_type": "markdown",
      "source": [
        "Passing Members of One Class to Another Class:\n",
        "o Define a class Address with attributes street and city. Define a class Person\n",
        "with attributes name and address. Pass an instance of the Address class as an\n",
        "argument to the Person class and print the person&#39;s details."
      ],
      "metadata": {
        "id": "wcdzRGzEO0WS"
      }
    },
    {
      "cell_type": "code",
      "source": [
        "class Address:\n",
        "    def __init__(self, street, city):\n",
        "        self.street = street\n",
        "        self.city = city\n",
        "\n",
        "class Person:\n",
        "    def __init__(self, name, address):\n",
        "        self.name = name\n",
        "        self.address = address\n",
        "\n",
        "address1 = Address(\"123 Main St\", \"New York\")\n",
        "person1 = Person(\"John Doe\", address1)\n",
        "\n",
        "print(person1.name)\n",
        "print(person1.address.street)\n",
        "print(person1.address.city)"
      ],
      "metadata": {
        "colab": {
          "base_uri": "https://localhost:8080/"
        },
        "id": "5DrqzMxkO1eX",
        "outputId": "acdb1820-2aa9-4cd4-a9f0-4753f17ea774"
      },
      "execution_count": 10,
      "outputs": [
        {
          "output_type": "stream",
          "name": "stdout",
          "text": [
            "John Doe\n",
            "123 Main St\n",
            "New York\n"
          ]
        }
      ]
    },
    {
      "cell_type": "markdown",
      "source": [
        "Combination of Methods:\n",
        "o Define a class BankAccount with instance variables account_number and\n",
        "balance, a class variable bank_name, an instance method deposit, a class\n",
        "method set_bank_name, and a static method interest_rate that returns a fixed\n",
        "interest rate. Create an instance of the BankAccount class and demonstrate the use\n",
        "of these methods."
      ],
      "metadata": {
        "id": "G_VoZM7fPBFw"
      }
    },
    {
      "cell_type": "code",
      "source": [
        "class BankAccount:\n",
        "    bank_name = \"ABC Bank\"\n",
        "\n",
        "    def __init__(self, account_number, balance):\n",
        "        self.account_number = account_number\n",
        "        self.balance = balance\n",
        "    def deposit(self, amount):\n",
        "        self.balance += amount\n",
        "\n",
        "    @classmethod\n",
        "    def set_bank_name(cls, new_name):\n",
        "        cls.bank_name = new_name\n",
        "\n",
        "    @staticmethod\n",
        "    def interest_rate():\n",
        "        return 0.3\n",
        "\n",
        "account1 = BankAccount(\"123456789\", 1000)\n",
        "account1.deposit(500)\n",
        "print(account1.balance)\n",
        "BankAccount.set_bank_name(\"XYZ Bank\")\n",
        "print(BankAccount.bank_name)\n",
        "print(account1.bank_name)\n",
        "print(BankAccount.interest_rate())"
      ],
      "metadata": {
        "colab": {
          "base_uri": "https://localhost:8080/"
        },
        "id": "tfCD-TGGPDeH",
        "outputId": "1e8c75c0-2bbe-4a71-ae40-21c3174770ed"
      },
      "execution_count": 13,
      "outputs": [
        {
          "output_type": "stream",
          "name": "stdout",
          "text": [
            "1500\n",
            "XYZ Bank\n",
            "XYZ Bank\n",
            "0.3\n"
          ]
        }
      ]
    }
  ]
}